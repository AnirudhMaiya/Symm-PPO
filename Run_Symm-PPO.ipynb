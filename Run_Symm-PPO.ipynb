{
  "nbformat": 4,
  "nbformat_minor": 0,
  "metadata": {
    "colab": {
      "name": "Run_Symm-PPO.ipynb",
      "provenance": [],
      "collapsed_sections": []
    },
    "kernelspec": {
      "name": "python3",
      "display_name": "Python 3"
    },
    "language_info": {
      "name": "python"
    },
    "accelerator": "GPU",
    "gpuClass": "standard"
  },
  "cells": [
    {
      "cell_type": "code",
      "execution_count": null,
      "metadata": {
        "id": "WjFk748wkfDi"
      },
      "outputs": [],
      "source": [
        "!git clone https://github.com/AnirudhMaiya/Symm-PPO.git"
      ]
    },
    {
      "cell_type": "code",
      "source": [
        "%cd Symm-PPO/src"
      ],
      "metadata": {
        "id": "-01RSn_JqRxv"
      },
      "execution_count": null,
      "outputs": []
    },
    {
      "cell_type": "code",
      "source": [
        "!pip install -r requirements.txt"
      ],
      "metadata": {
        "id": "INU5jVJ3qVwM"
      },
      "execution_count": null,
      "outputs": []
    },
    {
      "cell_type": "code",
      "source": [
        "import urllib.request\n",
        "urllib.request.urlretrieve('http://www.atarimania.com/roms/Roms.rar','Roms.rar')\n",
        "!pip install unrar\n",
        "!unrar x Roms.rar\n",
        "!mkdir rars\n",
        "!mv \"HC ROMS\" rars\n",
        "!mv \"ROMS\" rars\n",
        "!python -m atari_py.import_roms rars"
      ],
      "metadata": {
        "id": "UdYbkKPiqV7u"
      },
      "execution_count": null,
      "outputs": []
    },
    {
      "cell_type": "code",
      "source": [
        "#--algo ppo is actually Symm-PPO here!!!\n",
        "!python main.py --env-name \"PongNoFrameskip-v4\" --algo ppo --use-gae --lr 2.5e-4 --clip-param 0.1 --value-loss-coef 0.5 --num-processes 8 --num-steps 128 --num-mini-batch 1 --log-interval 1 --use-linear-lr-decay --entropy-coef 0.05"
      ],
      "metadata": {
        "colab": {
          "base_uri": "https://localhost:8080/"
        },
        "id": "iHJ9hTqLq1i8",
        "outputId": "b2635e22-5164-4aad-c39e-60cad6d1a947"
      },
      "execution_count": 5,
      "outputs": [
        {
          "output_type": "stream",
          "name": "stdout",
          "text": [
            "Updates 6, num timesteps 7168, FPS 401 \n",
            " Last 4 training episodes: mean/median reward -20.5/-20.5, min/max reward -21.0/-20.0, KL Loss 7.0034836880950024e-06, Beta 0.03125 , Entropy Coef Old 0.05\n",
            "\n",
            "Updates 7, num timesteps 8192, FPS 419 \n",
            " Last 7 training episodes: mean/median reward -20.3/-20.0, min/max reward -21.0/-20.0, KL Loss 7.87830828130609e-06, Beta 0.029411764705882353 , Entropy Coef Old 0.05\n",
            "\n",
            "Updates 8, num timesteps 9216, FPS 437 \n",
            " Last 8 training episodes: mean/median reward -20.1/-20.0, min/max reward -21.0/-19.0, KL Loss 1.0270629303477108e-05, Beta 0.02777777777777778 , Entropy Coef Old 0.05\n",
            "\n",
            "Updates 9, num timesteps 10240, FPS 452 \n",
            " Last 8 training episodes: mean/median reward -20.1/-20.0, min/max reward -21.0/-19.0, KL Loss 5.5915731422828685e-06, Beta 0.026315789473684213 , Entropy Coef Old 0.05\n",
            "\n",
            "Updates 10, num timesteps 11264, FPS 465 \n",
            " Last 8 training episodes: mean/median reward -20.1/-20.0, min/max reward -21.0/-19.0, KL Loss 2.3172435817286896e-05, Beta 0.025 , Entropy Coef Old 0.05\n",
            "\n",
            "Updates 11, num timesteps 12288, FPS 472 \n",
            " Last 8 training episodes: mean/median reward -20.1/-20.0, min/max reward -21.0/-19.0, KL Loss 1.3380300231347064e-05, Beta 0.023809523809523808 , Entropy Coef Old 0.05\n",
            "\n",
            "Updates 12, num timesteps 13312, FPS 481 \n",
            " Last 8 training episodes: mean/median reward -20.1/-20.0, min/max reward -21.0/-19.0, KL Loss 6.573833672973706e-06, Beta 0.022727272727272728 , Entropy Coef Old 0.05\n",
            "\n",
            "Updates 13, num timesteps 14336, FPS 489 \n",
            " Last 10 training episodes: mean/median reward -20.2/-20.0, min/max reward -21.0/-19.0, KL Loss 4.240090811435948e-05, Beta 0.02173913043478261 , Entropy Coef Old 0.05\n",
            "\n",
            "Updates 14, num timesteps 15360, FPS 496 \n",
            " Last 10 training episodes: mean/median reward -20.2/-20.0, min/max reward -21.0/-19.0, KL Loss 2.0695124248959473e-05, Beta 0.020833333333333332 , Entropy Coef Old 0.05\n",
            "\n",
            "Updates 15, num timesteps 16384, FPS 502 \n",
            " Last 10 training episodes: mean/median reward -20.2/-20.0, min/max reward -21.0/-19.0, KL Loss 1.9186991721653612e-05, Beta 0.02 , Entropy Coef Old 0.05\n",
            "\n",
            "Updates 16, num timesteps 17408, FPS 510 \n",
            " Last 10 training episodes: mean/median reward -20.2/-20.0, min/max reward -21.0/-19.0, KL Loss 1.1287239289003992e-05, Beta 0.019230769230769232 , Entropy Coef Old 0.05\n",
            "\n",
            "Updates 17, num timesteps 18432, FPS 514 \n",
            " Last 10 training episodes: mean/median reward -20.2/-20.0, min/max reward -21.0/-19.0, KL Loss 3.706359942157178e-05, Beta 0.018518518518518517 , Entropy Coef Old 0.05\n",
            "\n",
            "Updates 18, num timesteps 19456, FPS 519 \n",
            " Last 10 training episodes: mean/median reward -20.2/-20.0, min/max reward -21.0/-19.0, KL Loss 5.6195388793867096e-05, Beta 0.01785714285714286 , Entropy Coef Old 0.05\n",
            "\n",
            "Process ForkServerProcess-2:\n",
            "Process ForkServerProcess-1:\n",
            "Process ForkServerProcess-7:\n",
            "Process ForkServerProcess-8:\n",
            "Traceback (most recent call last):\n",
            "  File \"main.py\", line 206, in <module>\n",
            "Traceback (most recent call last):\n",
            "  File \"/usr/lib/python3.7/multiprocessing/process.py\", line 297, in _bootstrap\n",
            "    self.run()\n",
            "  File \"/usr/lib/python3.7/multiprocessing/process.py\", line 99, in run\n",
            "    self._target(*self._args, **self._kwargs)\n",
            "  File \"/usr/local/lib/python3.7/dist-packages/stable_baselines3/common/vec_env/subproc_vec_env.py\", line 27, in _worker\n",
            "    cmd, data = remote.recv()\n",
            "  File \"/usr/lib/python3.7/multiprocessing/connection.py\", line 250, in recv\n",
            "    buf = self._recv_bytes()\n",
            "  File \"/usr/lib/python3.7/multiprocessing/connection.py\", line 407, in _recv_bytes\n",
            "    buf = self._recv(4)\n",
            "  File \"/usr/lib/python3.7/multiprocessing/connection.py\", line 379, in _recv\n",
            "    chunk = read(handle, remaining)\n",
            "KeyboardInterrupt\n",
            "Traceback (most recent call last):\n",
            "  File \"/usr/lib/python3.7/multiprocessing/process.py\", line 297, in _bootstrap\n",
            "    self.run()\n",
            "  File \"/usr/lib/python3.7/multiprocessing/process.py\", line 99, in run\n",
            "    self._target(*self._args, **self._kwargs)\n",
            "  File \"/usr/local/lib/python3.7/dist-packages/stable_baselines3/common/vec_env/subproc_vec_env.py\", line 27, in _worker\n",
            "    cmd, data = remote.recv()\n",
            "  File \"/usr/lib/python3.7/multiprocessing/connection.py\", line 250, in recv\n",
            "    buf = self._recv_bytes()\n",
            "  File \"/usr/lib/python3.7/multiprocessing/connection.py\", line 407, in _recv_bytes\n",
            "    buf = self._recv(4)\n",
            "  File \"/usr/lib/python3.7/multiprocessing/connection.py\", line 379, in _recv\n",
            "    chunk = read(handle, remaining)\n",
            "KeyboardInterrupt\n",
            "Traceback (most recent call last):\n",
            "  File \"/usr/lib/python3.7/multiprocessing/process.py\", line 297, in _bootstrap\n",
            "    self.run()\n",
            "  File \"/usr/lib/python3.7/multiprocessing/process.py\", line 99, in run\n",
            "    self._target(*self._args, **self._kwargs)\n",
            "  File \"/usr/local/lib/python3.7/dist-packages/stable_baselines3/common/vec_env/subproc_vec_env.py\", line 27, in _worker\n",
            "    cmd, data = remote.recv()\n",
            "  File \"/usr/lib/python3.7/multiprocessing/connection.py\", line 250, in recv\n",
            "    buf = self._recv_bytes()\n",
            "  File \"/usr/lib/python3.7/multiprocessing/connection.py\", line 407, in _recv_bytes\n",
            "    buf = self._recv(4)\n",
            "  File \"/usr/lib/python3.7/multiprocessing/connection.py\", line 379, in _recv\n",
            "    chunk = read(handle, remaining)\n",
            "KeyboardInterrupt\n",
            "Traceback (most recent call last):\n",
            "  File \"/usr/lib/python3.7/multiprocessing/process.py\", line 297, in _bootstrap\n",
            "    self.run()\n",
            "  File \"/usr/lib/python3.7/multiprocessing/process.py\", line 99, in run\n",
            "    self._target(*self._args, **self._kwargs)\n",
            "  File \"/usr/local/lib/python3.7/dist-packages/stable_baselines3/common/vec_env/subproc_vec_env.py\", line 27, in _worker\n",
            "    cmd, data = remote.recv()\n",
            "  File \"/usr/lib/python3.7/multiprocessing/connection.py\", line 250, in recv\n",
            "    buf = self._recv_bytes()\n",
            "  File \"/usr/lib/python3.7/multiprocessing/connection.py\", line 407, in _recv_bytes\n",
            "    buf = self._recv(4)\n",
            "  File \"/usr/lib/python3.7/multiprocessing/connection.py\", line 379, in _recv\n",
            "    chunk = read(handle, remaining)\n",
            "KeyboardInterrupt\n",
            "  File \"main.py\", line 135, in main\n",
            "    action_log_prob, value, reward, masks, bad_masks,act_feature_old)\n",
            "  File \"/content/Symm-PPO/src/a2c_ppo_acktr/storage.py\", line 59, in insert\n",
            "    self.rewards[self.step].copy_(rewards)\n",
            "KeyboardInterrupt\n"
          ]
        }
      ]
    },
    {
      "cell_type": "code",
      "source": [
        ""
      ],
      "metadata": {
        "id": "Vx1xZX8tr27D"
      },
      "execution_count": null,
      "outputs": []
    }
  ]
}